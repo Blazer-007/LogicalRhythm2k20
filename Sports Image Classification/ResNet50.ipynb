{
 "cells": [
  {
   "cell_type": "code",
   "execution_count": null,
   "metadata": {
    "colab": {
     "base_uri": "https://localhost:8080/",
     "height": 34
    },
    "id": "sqhueMlCrsYE",
    "outputId": "7db7e6c7-9c04-415b-c02a-529f03741f82"
   },
   "outputs": [
    {
     "name": "stdout",
     "output_type": "stream",
     "text": [
      "Mounted at /content/drive\n"
     ]
    }
   ],
   "source": [
    "from google.colab import drive\n",
    "drive.mount('/content/drive')"
   ]
  },
  {
   "cell_type": "code",
   "execution_count": null,
   "metadata": {
    "colab": {
     "base_uri": "https://localhost:8080/",
     "height": 34
    },
    "id": "tE64wraCegXi",
    "outputId": "f87ef4d4-3f0d-494c-eb87-7d7da2c9c98d"
   },
   "outputs": [
    {
     "name": "stdout",
     "output_type": "stream",
     "text": [
      "/content/drive/My Drive/Logical-Rhythm-2k20/Sports_Image_Classification\n"
     ]
    }
   ],
   "source": [
    " cd /content/drive/My Drive/Logical-Rhythm-2k20/Sports_Image_Classification"
   ]
  },
  {
   "cell_type": "markdown",
   "metadata": {
    "id": "NHR5lpTv_xnz"
   },
   "source": [
    "# Importing Libraries"
   ]
  },
  {
   "cell_type": "code",
   "execution_count": null,
   "metadata": {
    "id": "Yk2IjRTTffiQ"
   },
   "outputs": [],
   "source": [
    "import pandas as pd\n",
    "import numpy as np\n",
    "import matplotlib.pyplot as plt\n",
    "import os, shutil\n",
    "from pathlib import Path\n",
    "import plotly.graph_objects as go\n",
    "from keras.utils import np_utils\n",
    "from sklearn.utils import shuffle\n",
    "from keras.applications.resnet50 import ResNet50\n",
    "from keras.preprocessing import image\n",
    "from keras.applications.resnet50 import preprocess_input, decode_predictions\n",
    "from keras.preprocessing.image import ImageDataGenerator\n",
    "from keras.layers import Dense, Activation, Flatten, Dropout, AveragePooling2D, BatchNormalization\n",
    "from keras.models import Sequential, Model\n",
    "from keras.optimizers import SGD, Adam\n",
    "from keras.callbacks import ModelCheckpoint, EarlyStopping"
   ]
  },
  {
   "cell_type": "markdown",
   "metadata": {
    "id": "3j1jdr5c_7BK"
   },
   "source": [
    "# Preprocessing to make proper files directory for train and validation folder to use ImageDataGenerator Class from Keras"
   ]
  },
  {
   "cell_type": "code",
   "execution_count": null,
   "metadata": {
    "id": "TVVppf6hfxFi"
   },
   "outputs": [],
   "source": [
    "train_labels = pd.read_csv('train_labels.csv')"
   ]
  },
  {
   "cell_type": "code",
   "execution_count": null,
   "metadata": {
    "colab": {
     "base_uri": "https://localhost:8080/",
     "height": 196
    },
    "id": "e8NnFPE5mmwW",
    "outputId": "42140493-60f8-4045-983e-5794b4e94343"
   },
   "outputs": [
    {
     "data": {
      "text/html": [
       "<div>\n",
       "<style scoped>\n",
       "    .dataframe tbody tr th:only-of-type {\n",
       "        vertical-align: middle;\n",
       "    }\n",
       "\n",
       "    .dataframe tbody tr th {\n",
       "        vertical-align: top;\n",
       "    }\n",
       "\n",
       "    .dataframe thead th {\n",
       "        text-align: right;\n",
       "    }\n",
       "</style>\n",
       "<table border=\"1\" class=\"dataframe\">\n",
       "  <thead>\n",
       "    <tr style=\"text-align: right;\">\n",
       "      <th></th>\n",
       "      <th>image</th>\n",
       "      <th>sports</th>\n",
       "    </tr>\n",
       "  </thead>\n",
       "  <tbody>\n",
       "    <tr>\n",
       "      <th>0</th>\n",
       "      <td>./train/0.jpg</td>\n",
       "      <td>baseball</td>\n",
       "    </tr>\n",
       "    <tr>\n",
       "      <th>1</th>\n",
       "      <td>./train/1.jpg</td>\n",
       "      <td>formula1</td>\n",
       "    </tr>\n",
       "    <tr>\n",
       "      <th>2</th>\n",
       "      <td>./train/2.jpg</td>\n",
       "      <td>fencing</td>\n",
       "    </tr>\n",
       "    <tr>\n",
       "      <th>3</th>\n",
       "      <td>./train/3.jpg</td>\n",
       "      <td>motogp</td>\n",
       "    </tr>\n",
       "    <tr>\n",
       "      <th>4</th>\n",
       "      <td>./train/4.jpg</td>\n",
       "      <td>ice_hockey</td>\n",
       "    </tr>\n",
       "  </tbody>\n",
       "</table>\n",
       "</div>"
      ],
      "text/plain": [
       "           image      sports\n",
       "0  ./train/0.jpg    baseball\n",
       "1  ./train/1.jpg    formula1\n",
       "2  ./train/2.jpg     fencing\n",
       "3  ./train/3.jpg      motogp\n",
       "4  ./train/4.jpg  ice_hockey"
      ]
     },
     "execution_count": 6,
     "metadata": {
      "tags": []
     },
     "output_type": "execute_result"
    }
   ],
   "source": [
    "train_labels.head()"
   ]
  },
  {
   "cell_type": "code",
   "execution_count": null,
   "metadata": {
    "colab": {
     "base_uri": "https://localhost:8080/",
     "height": 418
    },
    "id": "UVzeWcvFnaUz",
    "outputId": "aba4a28d-9d1d-40d9-f44b-a353caca8c52"
   },
   "outputs": [
    {
     "name": "stdout",
     "output_type": "stream",
     "text": [
      "badminton         698\n",
      "football          611\n",
      "volleyball        565\n",
      "ice_hockey        559\n",
      "tennis            555\n",
      "baseball          555\n",
      "boxing            542\n",
      "formula1          539\n",
      "swimming          531\n",
      "gymnastics        531\n",
      "table_tennis      530\n",
      "motogp            513\n",
      "wwe               508\n",
      "cricket           501\n",
      "fencing           494\n",
      "weight_lifting    450\n",
      "wrestling         432\n",
      "shooting          417\n",
      "hockey            405\n",
      "chess             375\n",
      "basketball        375\n",
      "kabaddi           354\n",
      "Name: sports, dtype: int64\n"
     ]
    }
   ],
   "source": [
    "print(train_labels['sports'].value_counts())"
   ]
  },
  {
   "cell_type": "code",
   "execution_count": null,
   "metadata": {
    "id": "2hNmLR3uf4Wv"
   },
   "outputs": [],
   "source": [
    "sports = set(train_labels['sports'])"
   ]
  },
  {
   "cell_type": "code",
   "execution_count": null,
   "metadata": {
    "colab": {
     "base_uri": "https://localhost:8080/",
     "height": 34
    },
    "id": "2jEpnp4kf8II",
    "outputId": "3fa54874-34e0-4f10-9b3d-08eaeeac0da8"
   },
   "outputs": [
    {
     "name": "stdout",
     "output_type": "stream",
     "text": [
      "22\n"
     ]
    }
   ],
   "source": [
    "# print(sports)\n",
    "print(len(sports))"
   ]
  },
  {
   "cell_type": "code",
   "execution_count": null,
   "metadata": {
    "id": "KsaM-hSXgUWl"
   },
   "outputs": [],
   "source": [
    "sports_id = {}\n",
    "id_sports = {}\n",
    "for idx, val in enumerate(sports):\n",
    "  sports_id[val] = idx\n",
    "  id_sports[idx] = val"
   ]
  },
  {
   "cell_type": "code",
   "execution_count": null,
   "metadata": {
    "id": "2rry8o7VhEf_"
   },
   "outputs": [],
   "source": [
    "# print(id_sports)"
   ]
  },
  {
   "cell_type": "code",
   "execution_count": null,
   "metadata": {
    "id": "jvuSzkSVl_Dq"
   },
   "outputs": [],
   "source": [
    "image_label = {}\n",
    "for idx in train_labels.index:\n",
    "  img_no = train_labels['image'][idx].split('/')[-1]\n",
    "  labell = train_labels['sports'][idx]\n",
    "  image_label[img_no] = labell"
   ]
  },
  {
   "cell_type": "code",
   "execution_count": null,
   "metadata": {
    "colab": {
     "base_uri": "https://localhost:8080/",
     "height": 34
    },
    "id": "3scj-WmKm-qJ",
    "outputId": "99a4ba54-9ae9-4565-8d9a-507dcb008320"
   },
   "outputs": [
    {
     "name": "stdout",
     "output_type": "stream",
     "text": [
      "11040\n"
     ]
    }
   ],
   "source": [
    "print(len(image_label))"
   ]
  },
  {
   "cell_type": "code",
   "execution_count": null,
   "metadata": {
    "colab": {
     "base_uri": "https://localhost:8080/",
     "height": 35
    },
    "id": "MXoou8pMnRQy",
    "outputId": "17391d17-23eb-4609-91c1-bb8d2d97806f"
   },
   "outputs": [
    {
     "data": {
      "application/vnd.google.colaboratory.intrinsic+json": {
       "type": "string"
      },
      "text/plain": [
       "'formula1'"
      ]
     },
     "execution_count": 13,
     "metadata": {
      "tags": []
     },
     "output_type": "execute_result"
    }
   ],
   "source": [
    "image_label['1.jpg']"
   ]
  },
  {
   "cell_type": "code",
   "execution_count": null,
   "metadata": {
    "colab": {
     "base_uri": "https://localhost:8080/",
     "height": 139
    },
    "id": "0nv9_hjnwaim",
    "outputId": "9955647d-7d91-4b44-e412-13a1512f9af0"
   },
   "outputs": [
    {
     "data": {
      "text/plain": [
       "['sample_submission.csv',\n",
       " 'test_images_list.csv',\n",
       " 'train_labels.csv',\n",
       " 'logical-rythm-2k20-sports-image-classification.zip',\n",
       " 'test',\n",
       " 'train',\n",
       " 'Code.ipynb']"
      ]
     },
     "execution_count": 16,
     "metadata": {
      "tags": []
     },
     "output_type": "execute_result"
    }
   ],
   "source": [
    "os.listdir()"
   ]
  },
  {
   "cell_type": "code",
   "execution_count": null,
   "metadata": {
    "id": "DPXZleRZwiB_"
   },
   "outputs": [],
   "source": [
    "os.mkdir('Train')\n",
    "os.mkdir('Val')"
   ]
  },
  {
   "cell_type": "code",
   "execution_count": null,
   "metadata": {
    "colab": {
     "base_uri": "https://localhost:8080/",
     "height": 174
    },
    "id": "cZnoTV89wtSW",
    "outputId": "eb0fc80d-56fb-4e95-e2cc-68a623453f9c"
   },
   "outputs": [
    {
     "data": {
      "text/plain": [
       "['sample_submission.csv',\n",
       " 'test_images_list.csv',\n",
       " 'train_labels.csv',\n",
       " 'logical-rythm-2k20-sports-image-classification.zip',\n",
       " 'test',\n",
       " 'train',\n",
       " 'Code.ipynb',\n",
       " 'Train',\n",
       " 'Val']"
      ]
     },
     "execution_count": 18,
     "metadata": {
      "tags": []
     },
     "output_type": "execute_result"
    }
   ],
   "source": [
    "os.listdir()"
   ]
  },
  {
   "cell_type": "code",
   "execution_count": null,
   "metadata": {
    "id": "HAYjsycbw3b6"
   },
   "outputs": [],
   "source": [
    "for sport in sports:\n",
    "  p1 = os.path.join('Train',sport)\n",
    "  p2 = os.path.join('Val',sport)\n",
    "  if not os.path.isdir(p1):\n",
    "    os.mkdir(p1)\n",
    "  if not os.path.isdir(p2):\n",
    "    os.mkdir(p2)"
   ]
  },
  {
   "cell_type": "code",
   "execution_count": null,
   "metadata": {
    "id": "LhbThSm8w3q6"
   },
   "outputs": [],
   "source": [
    "# os.listdir('Val')"
   ]
  },
  {
   "cell_type": "code",
   "execution_count": null,
   "metadata": {
    "id": "pyn6CIXqw3wW"
   },
   "outputs": [],
   "source": [
    "base_path = 'train'"
   ]
  },
  {
   "cell_type": "code",
   "execution_count": null,
   "metadata": {
    "colab": {
     "base_uri": "https://localhost:8080/",
     "height": 34
    },
    "id": "rawiiPMWw3us",
    "outputId": "8ed93294-ac1f-4fb2-f780-64b16138137a"
   },
   "outputs": [
    {
     "name": "stdout",
     "output_type": "stream",
     "text": [
      "train/train/0.jpg\n"
     ]
    }
   ],
   "source": [
    "print(base_path + train_labels['image'][0][1:])"
   ]
  },
  {
   "cell_type": "code",
   "execution_count": null,
   "metadata": {
    "id": "IRA621cbw3n7"
   },
   "outputs": [],
   "source": [
    "for idx in train_labels.index:\n",
    "  src = base_path + train_labels['image'][idx][1:]\n",
    "  dest = 'Train/' + train_labels['sports'][idx]\n",
    "  shutil.move(src,dest)"
   ]
  },
  {
   "cell_type": "code",
   "execution_count": null,
   "metadata": {
    "id": "K6d7Dhyxk2-8"
   },
   "outputs": [],
   "source": [
    "SPLIT = 0.9\n",
    "for f in os.listdir(\"Train\"):\n",
    "    path = \"Train/\"+f\n",
    "    imgs = os.listdir(path)\n",
    "    \n",
    "    split_size = int(SPLIT*len(imgs))\n",
    "    files_to_move = imgs[split_size:]\n",
    "    #print(len(files_to_move))\n",
    "    #print(files_to_move)\n",
    "    for img_f in files_to_move:\n",
    "        src = os.path.join(path,img_f)\n",
    "        dest = os.path.join(\"Val/\"+f,img_f)\n",
    "        shutil.move(src,dest)"
   ]
  },
  {
   "cell_type": "code",
   "execution_count": null,
   "metadata": {
    "colab": {
     "base_uri": "https://localhost:8080/",
     "height": 837
    },
    "id": "1cx7oUTnlIXt",
    "outputId": "478f067c-b58e-401e-c44b-f61f836c5efa"
   },
   "outputs": [
    {
     "name": "stdout",
     "output_type": "stream",
     "text": [
      "Training Data\n",
      "hockey 364\n",
      "formula1 485\n",
      "gymnastics 477\n",
      "boxing 487\n",
      "kabaddi 318\n",
      "weight_lifting 405\n",
      "table_tennis 477\n",
      "basketball 337\n",
      "fencing 444\n",
      "volleyball 508\n",
      "football 549\n",
      "ice_hockey 503\n",
      "tennis 499\n",
      "swimming 477\n",
      "shooting 375\n",
      "wwe 457\n",
      "cricket 450\n",
      "wrestling 388\n",
      "badminton 628\n",
      "chess 337\n",
      "baseball 499\n",
      "motogp 461\n",
      "\n",
      " Validation Data\n",
      "hockey 41\n",
      "formula1 54\n",
      "gymnastics 54\n",
      "boxing 55\n",
      "kabaddi 36\n",
      "weight_lifting 45\n",
      "table_tennis 53\n",
      "basketball 38\n",
      "fencing 50\n",
      "volleyball 57\n",
      "football 62\n",
      "ice_hockey 56\n",
      "tennis 56\n",
      "swimming 54\n",
      "shooting 42\n",
      "wwe 51\n",
      "cricket 51\n",
      "wrestling 44\n",
      "badminton 70\n",
      "chess 38\n",
      "baseball 56\n",
      "motogp 52\n"
     ]
    }
   ],
   "source": [
    "print(\"Training Data\")\n",
    "for f in os.listdir(\"Train\"):\n",
    "    path = \"Train/\"+f\n",
    "    print(f+ \" \"+str(len(os.listdir(path))))\n",
    "   \n",
    "\n",
    "print(\"\\n Validation Data\") \n",
    "for f in os.listdir(\"Train\"):\n",
    "    path = \"Val/\"+f\n",
    "    print(f+ \" \"+str(len(os.listdir(path))))"
   ]
  },
  {
   "cell_type": "code",
   "execution_count": null,
   "metadata": {
    "id": "0ZopJPzX4Y-b"
   },
   "outputs": [],
   "source": [
    "# print(train_labels['sports'].value_counts())"
   ]
  },
  {
   "cell_type": "code",
   "execution_count": null,
   "metadata": {
    "id": "CVrac9HmJGOE"
   },
   "outputs": [],
   "source": []
  },
  {
   "cell_type": "markdown",
   "metadata": {
    "id": "X1IIsNwr5--_"
   },
   "source": [
    "Data Preprocessing done"
   ]
  },
  {
   "cell_type": "markdown",
   "metadata": {
    "id": "40y4MrC66D3l"
   },
   "source": [
    "# Transfer Learning Using ResNet50"
   ]
  },
  {
   "cell_type": "code",
   "execution_count": null,
   "metadata": {
    "id": "omuD0C1l4iab"
   },
   "outputs": [],
   "source": []
  },
  {
   "cell_type": "code",
   "execution_count": null,
   "metadata": {
    "id": "JmfSJJhrFKnN"
   },
   "outputs": [],
   "source": [
    "TRAIN_DIR = \"Train\"\n",
    "VAL_DIR = \"Val\"\n",
    "TEST_DIR = \"test\"\n",
    "HEIGHT = 224\n",
    "WIDTH = 224\n",
    "BATCH_SIZE = 64\n",
    "NUM_EPOCHS = 30\n",
    "NUM_CLASSES = 22\n",
    "L_R = 0.01\n",
    "num_train_images = 9925"
   ]
  },
  {
   "cell_type": "code",
   "execution_count": null,
   "metadata": {
    "colab": {
     "base_uri": "https://localhost:8080/",
     "height": 52
    },
    "id": "WboJEu0rJkLX",
    "outputId": "dcc06aea-f65c-4aeb-d241-6959fd9e3d9b"
   },
   "outputs": [
    {
     "name": "stdout",
     "output_type": "stream",
     "text": [
      "Downloading data from https://storage.googleapis.com/tensorflow/keras-applications/resnet/resnet50_weights_tf_dim_ordering_tf_kernels_notop.h5\n",
      "94773248/94765736 [==============================] - 1s 0us/step\n"
     ]
    }
   ],
   "source": [
    "base_model = ResNet50(weights='imagenet', \n",
    "                      include_top=False, \n",
    "                      input_shape=(HEIGHT, WIDTH, 3))"
   ]
  },
  {
   "cell_type": "code",
   "execution_count": null,
   "metadata": {
    "colab": {
     "base_uri": "https://localhost:8080/",
     "height": 34
    },
    "id": "0ds6YX49FK4W",
    "outputId": "b5a73c3b-3a3b-4264-db4a-a40f1d6f6fc2"
   },
   "outputs": [
    {
     "name": "stdout",
     "output_type": "stream",
     "text": [
      "Found 9925 images belonging to 22 classes.\n"
     ]
    }
   ],
   "source": [
    "train_datagen =  ImageDataGenerator(\n",
    "      preprocessing_function=preprocess_input,\n",
    "      rotation_range = 50,\n",
    "      horizontal_flip=True,\n",
    "      vertical_flip=True,\n",
    "      zoom_range=0.3,\n",
    "      width_shift_range=0.2, \n",
    "      height_shift_range=0.2, \n",
    "      shear_range=0.2,\n",
    "      fill_mode='nearest'\n",
    "    )\n",
    "\n",
    "train_generator = train_datagen.flow_from_directory(TRAIN_DIR, \n",
    "                                                    target_size=(HEIGHT, WIDTH),\n",
    "                                                    class_mode='categorical' ,\n",
    "                                                    batch_size=BATCH_SIZE)"
   ]
  },
  {
   "cell_type": "code",
   "execution_count": null,
   "metadata": {
    "colab": {
     "base_uri": "https://localhost:8080/",
     "height": 34
    },
    "id": "vPVYOWLYJYJw",
    "outputId": "7378b32e-ea24-4541-ca25-f2f5e05945b1"
   },
   "outputs": [
    {
     "name": "stdout",
     "output_type": "stream",
     "text": [
      "Found 1115 images belonging to 22 classes.\n"
     ]
    }
   ],
   "source": [
    "val_datagen =  ImageDataGenerator(\n",
    "      preprocessing_function=preprocess_input\n",
    "    )\n",
    "\n",
    "val_generator = train_datagen.flow_from_directory(VAL_DIR, \n",
    "                                                    target_size=(HEIGHT, WIDTH), \n",
    "                                                    batch_size=BATCH_SIZE,\n",
    "                                                  class_mode='categorical' ,\n",
    "                                                  shuffle = False)"
   ]
  },
  {
   "cell_type": "code",
   "execution_count": null,
   "metadata": {
    "colab": {
     "base_uri": "https://localhost:8080/",
     "height": 34
    },
    "id": "reHodV4x2nvl",
    "outputId": "c6f130a2-23c0-438b-dd38-f534d7a3a71a"
   },
   "outputs": [
    {
     "name": "stdout",
     "output_type": "stream",
     "text": [
      "Found 2760 images belonging to 1 classes.\n"
     ]
    }
   ],
   "source": [
    "test_datagen =  ImageDataGenerator(\n",
    "      preprocessing_function=preprocess_input\n",
    "    )\n",
    "\n",
    "test_generator = test_datagen.flow_from_directory(TEST_DIR, \n",
    "                                                    target_size=(HEIGHT, WIDTH), \n",
    "                                                    batch_size=BATCH_SIZE,\n",
    "                                                  shuffle = False)"
   ]
  },
  {
   "cell_type": "code",
   "execution_count": null,
   "metadata": {
    "id": "owE0UacrFK8Q"
   },
   "outputs": [],
   "source": [
    "# def build_finetune_model(base_model, dropout, fc_layers, num_classes):\n",
    "    # for layer in base_model.layers:\n",
    "    #     layer.trainable = False\n",
    "\n",
    "    # x = base_model.output\n",
    "    # x = Flatten()(x)\n",
    "    # for fc in fc_layers:\n",
    "    #     # New FC layer, random init\n",
    "    #     x = Dense(fc, activation='relu')(x) \n",
    "    #     x = Dropout(dropout)(x)\n",
    "\n",
    "    # # New softmax layer\n",
    "    # predictions = Dense(num_classes, activation='softmax')(x) \n",
    "    \n",
    "    # finetune_model = Model(inputs=base_model.input, outputs=predictions)\n",
    "\n",
    "    # return finetune_model"
   ]
  },
  {
   "cell_type": "code",
   "execution_count": null,
   "metadata": {
    "colab": {
     "base_uri": "https://localhost:8080/",
     "height": 34
    },
    "id": "bUMws_Ug3GHM",
    "outputId": "ffda6902-283c-48ad-ee51-dac6a6dc3cf4"
   },
   "outputs": [
    {
     "name": "stdout",
     "output_type": "stream",
     "text": [
      "175\n"
     ]
    }
   ],
   "source": [
    "print(len(base_model.layers))\n",
    "for layer in base_model.layers:\n",
    "      layer.trainable = False"
   ]
  },
  {
   "cell_type": "code",
   "execution_count": null,
   "metadata": {
    "id": "F2KwcmRS3A4_"
   },
   "outputs": [],
   "source": [
    "headModel = base_model.output\n",
    "headModel = AveragePooling2D(pool_size=(7, 7))(headModel)\n",
    "headModel = Flatten(name=\"flatten\")(headModel)\n",
    "headModel = Dense(256, activation=\"relu\")(headModel)\n",
    "headModel = Dropout(0.5)(headModel)\n",
    "headModel = BatchNormalization()(headModel)\n",
    "headModel = Dense(NUM_CLASSES, activation=\"softmax\")(headModel)"
   ]
  },
  {
   "cell_type": "code",
   "execution_count": null,
   "metadata": {
    "id": "ufzZDb9wFK07"
   },
   "outputs": [],
   "source": [
    "# FC_LAYERS = [1024, 1024]\n",
    "# dropout = 0.5\n",
    "\n",
    "# finetune_model = build_finetune_model(base_model, \n",
    "#                                       dropout=dropout, \n",
    "#                                       fc_layers=FC_LAYERS, \n",
    "#                                       num_classes=22)"
   ]
  },
  {
   "cell_type": "code",
   "execution_count": null,
   "metadata": {
    "id": "DY5AX3Jq3hQp"
   },
   "outputs": [],
   "source": [
    "model = Model(inputs=base_model.input, outputs=headModel)"
   ]
  },
  {
   "cell_type": "code",
   "execution_count": null,
   "metadata": {
    "id": "gMEFdC3rG-aT"
   },
   "outputs": [],
   "source": [
    "adam = Adam(lr=0.01)\n",
    "model.compile(adam, loss='categorical_crossentropy', metrics=['accuracy'])\n"
   ]
  },
  {
   "cell_type": "code",
   "execution_count": null,
   "metadata": {
    "id": "PHn7C19-4EDo"
   },
   "outputs": [],
   "source": [
    "model_path = \"Model_Weights/ResNet50\" + \"_model_weights_keras.h5\""
   ]
  },
  {
   "cell_type": "code",
   "execution_count": null,
   "metadata": {
    "id": "bkkv_WYRVnW4"
   },
   "outputs": [],
   "source": []
  },
  {
   "cell_type": "code",
   "execution_count": null,
   "metadata": {
    "id": "H0ooeVm6LjtC"
   },
   "outputs": [],
   "source": [
    "checkpoint = ModelCheckpoint(filepath = model_path, monitor=\"val_accuracy\", mode = 'max', save_best_only=True)"
   ]
  },
  {
   "cell_type": "code",
   "execution_count": null,
   "metadata": {
    "id": "26JqQ7xL4K2U"
   },
   "outputs": [],
   "source": [
    "earlystop = EarlyStopping(monitor=\"val_accuracy\", patience=8, restore_best_weights=True)\n",
    "callbacks_list = [checkpoint, earlystop]"
   ]
  },
  {
   "cell_type": "code",
   "execution_count": null,
   "metadata": {
    "colab": {
     "base_uri": "https://localhost:8080/",
     "height": 997
    },
    "id": "4KwxO6VYLhx1",
    "outputId": "24c59cdc-5ccb-4005-e4ad-8355d2ca43a3"
   },
   "outputs": [
    {
     "name": "stdout",
     "output_type": "stream",
     "text": [
      "WARNING:tensorflow:From <ipython-input-18-3bae27b87d1a>:4: Model.fit_generator (from tensorflow.python.keras.engine.training) is deprecated and will be removed in a future version.\n",
      "Instructions for updating:\n",
      "Please use Model.fit, which supports generators.\n",
      "Epoch 1/30\n",
      "155/155 [==============================] - 538s 3s/step - loss: 1.6044 - accuracy: 0.5193 - val_loss: 1.1348 - val_accuracy: 0.6565\n",
      "Epoch 2/30\n",
      "155/155 [==============================] - 128s 823ms/step - loss: 1.2819 - accuracy: 0.6101 - val_loss: 1.0306 - val_accuracy: 0.6852\n",
      "Epoch 3/30\n",
      "155/155 [==============================] - 124s 800ms/step - loss: 1.2150 - accuracy: 0.6306 - val_loss: 1.1191 - val_accuracy: 0.6547\n",
      "Epoch 4/30\n",
      "155/155 [==============================] - 128s 826ms/step - loss: 1.1588 - accuracy: 0.6413 - val_loss: 0.9854 - val_accuracy: 0.6906\n",
      "Epoch 5/30\n",
      "155/155 [==============================] - 127s 822ms/step - loss: 1.1265 - accuracy: 0.6551 - val_loss: 0.9341 - val_accuracy: 0.7175\n",
      "Epoch 6/30\n",
      "155/155 [==============================] - 124s 800ms/step - loss: 1.0848 - accuracy: 0.6682 - val_loss: 0.9237 - val_accuracy: 0.7157\n",
      "Epoch 7/30\n",
      "155/155 [==============================] - 128s 827ms/step - loss: 1.0486 - accuracy: 0.6783 - val_loss: 0.9189 - val_accuracy: 0.7202\n",
      "Epoch 8/30\n",
      "155/155 [==============================] - 124s 802ms/step - loss: 1.0222 - accuracy: 0.6832 - val_loss: 1.4359 - val_accuracy: 0.6951\n",
      "Epoch 9/30\n",
      "155/155 [==============================] - 127s 822ms/step - loss: 1.0179 - accuracy: 0.6861 - val_loss: 0.8453 - val_accuracy: 0.7552\n",
      "Epoch 10/30\n",
      "155/155 [==============================] - 129s 832ms/step - loss: 0.9982 - accuracy: 0.6955 - val_loss: 0.8191 - val_accuracy: 0.7578\n",
      "Epoch 11/30\n",
      "155/155 [==============================] - 124s 801ms/step - loss: 0.9870 - accuracy: 0.6993 - val_loss: 0.8619 - val_accuracy: 0.7426\n",
      "Epoch 12/30\n",
      "155/155 [==============================] - 126s 813ms/step - loss: 0.9377 - accuracy: 0.7089 - val_loss: 0.7873 - val_accuracy: 0.7587\n",
      "Epoch 13/30\n",
      "155/155 [==============================] - 124s 802ms/step - loss: 0.9574 - accuracy: 0.7084 - val_loss: 0.8157 - val_accuracy: 0.7561\n",
      "Epoch 14/30\n",
      "155/155 [==============================] - 125s 805ms/step - loss: 0.9235 - accuracy: 0.7185 - val_loss: 0.7999 - val_accuracy: 0.7605\n",
      "Epoch 15/30\n",
      "155/155 [==============================] - 124s 803ms/step - loss: 0.9187 - accuracy: 0.7185 - val_loss: 0.8449 - val_accuracy: 0.7381\n",
      "Epoch 16/30\n",
      "155/155 [==============================] - 128s 823ms/step - loss: 0.9171 - accuracy: 0.7173 - val_loss: 0.7628 - val_accuracy: 0.7623\n",
      "Epoch 17/30\n",
      "155/155 [==============================] - 124s 798ms/step - loss: 0.9015 - accuracy: 0.7238 - val_loss: 0.8175 - val_accuracy: 0.7507\n",
      "Epoch 18/30\n",
      "155/155 [==============================] - 129s 829ms/step - loss: 0.8645 - accuracy: 0.7333 - val_loss: 0.7735 - val_accuracy: 0.7776\n",
      "Epoch 19/30\n",
      "155/155 [==============================] - 124s 801ms/step - loss: 0.8711 - accuracy: 0.7338 - val_loss: 0.8229 - val_accuracy: 0.7336\n",
      "Epoch 20/30\n",
      "155/155 [==============================] - 125s 803ms/step - loss: 0.8811 - accuracy: 0.7309 - val_loss: 0.7796 - val_accuracy: 0.7776\n",
      "Epoch 21/30\n",
      "155/155 [==============================] - 124s 798ms/step - loss: 0.8619 - accuracy: 0.7351 - val_loss: 0.7453 - val_accuracy: 0.7641\n",
      "Epoch 22/30\n",
      "155/155 [==============================] - 124s 798ms/step - loss: 0.8531 - accuracy: 0.7379 - val_loss: 0.7556 - val_accuracy: 0.7749\n",
      "Epoch 23/30\n",
      "155/155 [==============================] - 123s 796ms/step - loss: 0.8612 - accuracy: 0.7328 - val_loss: 0.7804 - val_accuracy: 0.7677\n",
      "Epoch 24/30\n",
      "155/155 [==============================] - 124s 801ms/step - loss: 0.8432 - accuracy: 0.7397 - val_loss: 0.7507 - val_accuracy: 0.7740\n",
      "Epoch 25/30\n",
      "155/155 [==============================] - 125s 804ms/step - loss: 0.8159 - accuracy: 0.7466 - val_loss: 0.7474 - val_accuracy: 0.7740\n",
      "Epoch 26/30\n",
      "155/155 [==============================] - 124s 798ms/step - loss: 0.8188 - accuracy: 0.7460 - val_loss: 0.7870 - val_accuracy: 0.7713\n"
     ]
    }
   ],
   "source": [
    "history = model.fit_generator(train_generator, epochs = NUM_EPOCHS, workers=8, \n",
    "                                       steps_per_epoch = num_train_images // BATCH_SIZE,\n",
    "                                       validation_data = val_generator,\n",
    "                                       shuffle=True, callbacks=callbacks_list)"
   ]
  },
  {
   "cell_type": "code",
   "execution_count": null,
   "metadata": {
    "id": "CoKYX_gwdYQs"
   },
   "outputs": [],
   "source": [
    "# Plot the training and validation loss + accuracy\n",
    "def plot_training(history):\n",
    "    acc = history.history['accuracy']\n",
    "    val_acc = history.history['val_accuracy']\n",
    "    loss = history.history['loss']\n",
    "    val_loss = history.history['val_loss']\n",
    "    epochs = range(len(acc))\n",
    "\n",
    "    plt.plot(epochs, acc, 'bo', label='Training accuracy')\n",
    "    plt.plot(epochs, val_acc, 'b', label='Validation accuracy')\n",
    "    plt.title('Training and validation accuracy')\n",
    "    plt.xlabel('Epochs')\n",
    "    plt.ylabel('Accuracy')\n",
    "    plt.legend()\n",
    "    plt.figure()\n",
    "\n",
    "    plt.plot(epochs, loss, 'bo', label='Training Loss')\n",
    "    plt.plot(epochs, val_loss, 'b', label='Validation Loss')\n",
    "    plt.title('Training and validation loss')\n",
    "    plt.xlabel('Epochs')\n",
    "    plt.ylabel('Loss')\n",
    "    plt.legend()\n",
    "    plt.show()\n"
   ]
  },
  {
   "cell_type": "code",
   "execution_count": null,
   "metadata": {
    "colab": {
     "base_uri": "https://localhost:8080/",
     "height": 573
    },
    "id": "RyyV3UGIG-d1",
    "outputId": "c5550f3e-5b3c-4bf0-aa75-74a7f18b918f"
   },
   "outputs": [
    {
     "data": {
      "image/png": "[encoded data removed]",
      "text/plain": [
       "<Figure size 432x288 with 1 Axes>"
      ]
     },
     "metadata": {
      "needs_background": "light",
      "tags": []
     },
     "output_type": "display_data"
    },
    {
     "data": {
      "image/png": "[encoded data removed]",
      "text/plain": [
       "<Figure size 432x288 with 1 Axes>"
      ]
     },
     "metadata": {
      "needs_background": "light",
      "tags": []
     },
     "output_type": "display_data"
    }
   ],
   "source": [
    "plot_training(history)"
   ]
  },
  {
   "cell_type": "code",
   "execution_count": null,
   "metadata": {
    "colab": {
     "base_uri": "https://localhost:8080/",
     "height": 34
    },
    "id": "AGa6o3BiG-la",
    "outputId": "5c882802-50fb-48e2-95c5-ec893c16b493"
   },
   "outputs": [
    {
     "name": "stdout",
     "output_type": "stream",
     "text": [
      "Accuracy =  0.7309417128562927\n"
     ]
    }
   ],
   "source": [
    "scores = model.evaluate_generator(val_generator) \n",
    "print(\"Accuracy = \", scores[1])"
   ]
  },
  {
   "cell_type": "code",
   "execution_count": null,
   "metadata": {
    "id": "DJS20A2zVJM0"
   },
   "outputs": [],
   "source": []
  },
  {
   "cell_type": "code",
   "execution_count": null,
   "metadata": {
    "id": "Lx7sl-RlVJZr"
   },
   "outputs": [],
   "source": [
    "base_model.trainable = True\n",
    "for ix in range(169):\n",
    "    base_model.layers[ix].trainable = False\n",
    "for layer in base_model.layers:\n",
    "  if isinstance(layer, BatchNormalization):\n",
    "   layer.trainable = False"
   ]
  },
  {
   "cell_type": "code",
   "execution_count": null,
   "metadata": {
    "id": "yG7E2cljVKI-"
   },
   "outputs": [],
   "source": [
    "adam = Adam(lr=0.0001)\n",
    "model.compile(adam, loss='categorical_crossentropy', metrics=['accuracy'])"
   ]
  },
  {
   "cell_type": "code",
   "execution_count": null,
   "metadata": {
    "id": "vv6iZeuEVxIX"
   },
   "outputs": [],
   "source": [
    "model_path = \"Model_Weights/ResNet50\" + \"_model_weights_keras_finetuned.h5\""
   ]
  },
  {
   "cell_type": "code",
   "execution_count": null,
   "metadata": {
    "id": "iWba21xLuUbC"
   },
   "outputs": [],
   "source": [
    "BATCH_SIZE = 32"
   ]
  },
  {
   "cell_type": "code",
   "execution_count": null,
   "metadata": {
    "id": "MiEb7P57VxRx"
   },
   "outputs": [],
   "source": [
    "checkpoint = ModelCheckpoint(filepath = model_path, monitor=\"val_accuracy\", mode = 'max', save_best_only=True)\n",
    "earlystop = EarlyStopping(monitor=\"val_accuracy\", patience=10, restore_best_weights=True)\n",
    "callbacks_list = [checkpoint, earlystop]"
   ]
  },
  {
   "cell_type": "code",
   "execution_count": null,
   "metadata": {
    "colab": {
     "base_uri": "https://localhost:8080/",
     "height": 750
    },
    "id": "uNGWvdB3VxO8",
    "outputId": "1836b0f1-191a-4684-ed9a-ae6dd4803f34"
   },
   "outputs": [
    {
     "name": "stdout",
     "output_type": "stream",
     "text": [
      "Epoch 1/30\n",
      "310/310 [==============================] - 144s 464ms/step - loss: 1.2394 - accuracy: 0.6443 - val_loss: 1.0315 - val_accuracy: 0.7211\n",
      "Epoch 2/30\n",
      "310/310 [==============================] - 159s 511ms/step - loss: 1.1900 - accuracy: 0.6560 - val_loss: 1.0030 - val_accuracy: 0.7291\n",
      "Epoch 3/30\n",
      "310/310 [==============================] - 160s 516ms/step - loss: 1.1909 - accuracy: 0.6540 - val_loss: 1.0046 - val_accuracy: 0.7265\n",
      "Epoch 4/30\n",
      "310/310 [==============================] - 148s 476ms/step - loss: 1.1773 - accuracy: 0.6609 - val_loss: 1.0137 - val_accuracy: 0.7220\n",
      "Epoch 5/30\n",
      "310/310 [==============================] - 138s 445ms/step - loss: 1.1657 - accuracy: 0.6611 - val_loss: 0.9867 - val_accuracy: 0.7291\n",
      "Epoch 6/30\n",
      "310/310 [==============================] - 160s 517ms/step - loss: 1.1377 - accuracy: 0.6763 - val_loss: 0.9571 - val_accuracy: 0.7435\n",
      "Epoch 7/30\n",
      "310/310 [==============================] - 166s 534ms/step - loss: 1.1279 - accuracy: 0.6723 - val_loss: 0.9522 - val_accuracy: 0.7336\n",
      "Epoch 8/30\n",
      "310/310 [==============================] - 166s 534ms/step - loss: 1.1197 - accuracy: 0.6735 - val_loss: 0.9888 - val_accuracy: 0.7300\n",
      "Epoch 9/30\n",
      "310/310 [==============================] - 168s 543ms/step - loss: 1.0861 - accuracy: 0.6846 - val_loss: 0.9474 - val_accuracy: 0.7480\n",
      "Epoch 10/30\n",
      "310/310 [==============================] - 146s 471ms/step - loss: 1.0937 - accuracy: 0.6826 - val_loss: 0.9241 - val_accuracy: 0.7480\n",
      "Epoch 11/30\n",
      "310/310 [==============================] - 153s 492ms/step - loss: 1.0708 - accuracy: 0.6916 - val_loss: 0.9196 - val_accuracy: 0.7570\n",
      "Epoch 12/30\n",
      "310/310 [==============================] - 147s 473ms/step - loss: 1.0701 - accuracy: 0.6883 - val_loss: 0.9364 - val_accuracy: 0.7426\n",
      "Epoch 13/30\n",
      "310/310 [==============================] - 141s 454ms/step - loss: 1.0616 - accuracy: 0.6934 - val_loss: 0.9198 - val_accuracy: 0.7435\n",
      "Epoch 14/30\n",
      "310/310 [==============================] - 156s 504ms/step - loss: 1.0311 - accuracy: 0.7020 - val_loss: 0.9356 - val_accuracy: 0.7247\n",
      "Epoch 15/30\n",
      "310/310 [==============================] - 147s 473ms/step - loss: 1.0353 - accuracy: 0.6991 - val_loss: 0.8944 - val_accuracy: 0.7444\n",
      "Epoch 16/30\n",
      "310/310 [==============================] - 161s 521ms/step - loss: 1.0180 - accuracy: 0.7045 - val_loss: 0.8968 - val_accuracy: 0.7435\n",
      "Epoch 17/30\n",
      "310/310 [==============================] - 160s 515ms/step - loss: 1.0114 - accuracy: 0.7105 - val_loss: 0.8982 - val_accuracy: 0.7480\n",
      "Epoch 18/30\n",
      "310/310 [==============================] - 134s 432ms/step - loss: 1.0173 - accuracy: 0.7036 - val_loss: 0.8918 - val_accuracy: 0.7318\n",
      "Epoch 19/30\n",
      "310/310 [==============================] - 130s 420ms/step - loss: 0.9969 - accuracy: 0.7108 - val_loss: 0.8921 - val_accuracy: 0.7453\n",
      "Epoch 20/30\n",
      "310/310 [==============================] - 137s 443ms/step - loss: 0.9976 - accuracy: 0.7085 - val_loss: 0.8668 - val_accuracy: 0.7462\n",
      "Epoch 21/30\n",
      "310/310 [==============================] - 134s 434ms/step - loss: 0.9787 - accuracy: 0.7121 - val_loss: 0.8882 - val_accuracy: 0.7516\n"
     ]
    }
   ],
   "source": [
    "history = model.fit_generator(train_generator, epochs = NUM_EPOCHS, workers=8, \n",
    "                                       steps_per_epoch = num_train_images // BATCH_SIZE,\n",
    "                                       validation_data = val_generator,\n",
    "                                       shuffle=True, callbacks=callbacks_list)"
   ]
  },
  {
   "cell_type": "code",
   "execution_count": null,
   "metadata": {
    "colab": {
     "base_uri": "https://localhost:8080/",
     "height": 573
    },
    "id": "AXsqxBHwi7mr",
    "outputId": "438ab23a-b77d-47c4-f9dd-9eafbe0a94f0"
   },
   "outputs": [
    {
     "data": {
      "image/png": "[encoded data removed]",
      "text/plain": [
       "<Figure size 432x288 with 1 Axes>"
      ]
     },
     "metadata": {
      "needs_background": "light",
      "tags": []
     },
     "output_type": "display_data"
    },
    {
     "data": {
      "image/png": "[encoded data removed]",
      "text/plain": [
       "<Figure size 432x288 with 1 Axes>"
      ]
     },
     "metadata": {
      "needs_background": "light",
      "tags": []
     },
     "output_type": "display_data"
    }
   ],
   "source": [
    "plot_training(history)"
   ]
  },
  {
   "cell_type": "code",
   "execution_count": null,
   "metadata": {
    "colab": {
     "base_uri": "https://localhost:8080/",
     "height": 34
    },
    "id": "8GqsqSqTVKwW",
    "outputId": "5f5eb161-0fa8-437a-a8ad-d5142956ef51"
   },
   "outputs": [
    {
     "name": "stdout",
     "output_type": "stream",
     "text": [
      "Accuracy =  0.749775767326355\n"
     ]
    }
   ],
   "source": [
    "scores = model.evaluate_generator(val_generator) \n",
    "print(\"Accuracy = \", scores[1])"
   ]
  },
  {
   "cell_type": "markdown",
   "metadata": {
    "id": "8FOSHGieAYia"
   },
   "source": [
    "# Predicting on test generator"
   ]
  },
  {
   "cell_type": "code",
   "execution_count": null,
   "metadata": {
    "colab": {
     "base_uri": "https://localhost:8080/",
     "height": 89
    },
    "id": "d-Xta-YBG-hl",
    "outputId": "cf908cb9-e24e-42f9-c948-00c0deb6629f"
   },
   "outputs": [
    {
     "name": "stdout",
     "output_type": "stream",
     "text": [
      "WARNING:tensorflow:From <ipython-input-42-0958d4997a94>:1: Model.predict_generator (from tensorflow.python.keras.engine.training) is deprecated and will be removed in a future version.\n",
      "Instructions for updating:\n",
      "Please use Model.predict, which supports generators.\n"
     ]
    }
   ],
   "source": [
    "pred = model.predict_generator(test_generator, workers=8)"
   ]
  },
  {
   "cell_type": "code",
   "execution_count": null,
   "metadata": {
    "colab": {
     "base_uri": "https://localhost:8080/",
     "height": 34
    },
    "id": "RLDxFoymmgRN",
    "outputId": "ab9b6d77-f0f4-4deb-8474-d6f8ae8f655d"
   },
   "outputs": [
    {
     "name": "stdout",
     "output_type": "stream",
     "text": [
      "7\n"
     ]
    }
   ],
   "source": [
    "print(pred[0].argmax())"
   ]
  },
  {
   "cell_type": "code",
   "execution_count": null,
   "metadata": {
    "id": "DcPSEzANmUHy"
   },
   "outputs": [],
   "source": [
    "y_classes = pred.argmax(axis=1)"
   ]
  },
  {
   "cell_type": "code",
   "execution_count": null,
   "metadata": {
    "colab": {
     "base_uri": "https://localhost:8080/",
     "height": 34
    },
    "id": "KRXXrgrqG-WN",
    "outputId": "379edab4-4877-495a-b973-13d940205aa6"
   },
   "outputs": [
    {
     "name": "stdout",
     "output_type": "stream",
     "text": [
      "7\n"
     ]
    }
   ],
   "source": [
    "print(y_classes[0])"
   ]
  },
  {
   "cell_type": "code",
   "execution_count": null,
   "metadata": {
    "colab": {
     "base_uri": "https://localhost:8080/",
     "height": 34
    },
    "id": "LFEuHgrujE0i",
    "outputId": "8764cd4f-7621-453e-b385-e4c3a47a6569"
   },
   "outputs": [
    {
     "name": "stdout",
     "output_type": "stream",
     "text": [
      "(2760, 22)\n"
     ]
    }
   ],
   "source": [
    "print(pred.shape)"
   ]
  },
  {
   "cell_type": "code",
   "execution_count": null,
   "metadata": {
    "colab": {
     "base_uri": "https://localhost:8080/",
     "height": 194
    },
    "id": "K5YMzPiv2aWR",
    "outputId": "8c302179-969c-4ab8-a618-a8f6c605bf51"
   },
   "outputs": [
    {
     "name": "stdout",
     "output_type": "stream",
     "text": [
      "{'badminton': 0, 'baseball': 1, 'basketball': 2, 'boxing': 3, 'chess': 4, 'cricket': 5, 'fencing': 6, 'football': 7, 'formula1': 8, 'gymnastics': 9, 'hockey': 10, 'ice_hockey': 11, 'kabaddi': 12, 'motogp': 13, 'shooting': 14, 'swimming': 15, 'table_tennis': 16, 'tennis': 17, 'volleyball': 18, 'weight_lifting': 19, 'wrestling': 20, 'wwe': 21}\n",
      "{0: 'badminton', 1: 'baseball', 2: 'basketball', 3: 'boxing', 4: 'chess', 5: 'cricket', 6: 'fencing', 7: 'football', 8: 'formula1', 9: 'gymnastics', 10: 'hockey', 11: 'ice_hockey', 12: 'kabaddi', 13: 'motogp', 14: 'shooting', 15: 'swimming', 16: 'table_tennis', 17: 'tennis', 18: 'volleyball', 19: 'weight_lifting', 20: 'wrestling', 21: 'wwe'}\n",
      "           image     sports\n",
      "0     test/0.jpg   football\n",
      "1     test/1.jpg     motogp\n",
      "2    test/10.jpg   football\n",
      "3   test/100.jpg     motogp\n",
      "4  test/1000.jpg  badminton\n",
      "Saved file: Sports_Image_Classification.csv\n"
     ]
    }
   ],
   "source": [
    "print(val_generator.class_indices)\n",
    "inv_map = {v: k for k, v in val_generator.class_indices.items()}\n",
    "print(inv_map)\n",
    "submission = pd.DataFrame(data= {'image': test_generator.filenames , 'sports' : np.argmax(pred, axis=1)} )\n",
    "submission = submission.replace(inv_map)\n",
    "print(submission.head())\n",
    "filename = 'Sports_Image_Classification.csv'\n",
    "\n",
    "submission.to_csv(filename,index=False)\n",
    "\n",
    "print('Saved file: ' + filename)"
   ]
  },
  {
   "cell_type": "code",
   "execution_count": null,
   "metadata": {
    "id": "QjO0jP14H6UR"
   },
   "outputs": [],
   "source": [
    "Sports_Image_Classification = pd.read_csv('Sports_Image_Classification.csv')"
   ]
  },
  {
   "cell_type": "code",
   "execution_count": null,
   "metadata": {
    "id": "UBtphs1WGSqR"
   },
   "outputs": [],
   "source": [
    "img_pred = {}\n",
    "for idx in Sports_Image_Classification.index:\n",
    "  img_no = Sports_Image_Classification['image'][idx].split('/')[-1]\n",
    "  label = Sports_Image_Classification['sports'][idx]\n",
    "  img_pred[img_no] = label"
   ]
  },
  {
   "cell_type": "code",
   "execution_count": null,
   "metadata": {
    "colab": {
     "base_uri": "https://localhost:8080/",
     "height": 34
    },
    "id": "7g-LYLSEJ5of",
    "outputId": "1412e08b-6a13-4449-c5a4-baa3932250e0"
   },
   "outputs": [
    {
     "name": "stdout",
     "output_type": "stream",
     "text": [
      "2760\n"
     ]
    }
   ],
   "source": [
    "print(len(img_pred))"
   ]
  },
  {
   "cell_type": "code",
   "execution_count": null,
   "metadata": {
    "id": "5cbZNyTIGSmt"
   },
   "outputs": [],
   "source": [
    "test_images_list = pd.read_csv('test_images_list.csv')"
   ]
  },
  {
   "cell_type": "code",
   "execution_count": null,
   "metadata": {
    "id": "hh6ieS7KHlpV"
   },
   "outputs": [],
   "source": [
    "df_pred = pd.DataFrame(columns=['image', 'sports'])"
   ]
  },
  {
   "cell_type": "code",
   "execution_count": null,
   "metadata": {
    "id": "X_jwoYR0Hl9u"
   },
   "outputs": [],
   "source": [
    "cnt = 0\n",
    "for idx in test_images_list.index:\n",
    "  img_name = test_images_list['image'][idx]\n",
    "  img_no = test_images_list['image'][idx].split('/')[-1]\n",
    "  label = img_pred[img_no]\n",
    "  df_pred = df_pred.append({'image' : img_name, 'sports' : label}, ignore_index=True)"
   ]
  },
  {
   "cell_type": "code",
   "execution_count": null,
   "metadata": {
    "colab": {
     "base_uri": "https://localhost:8080/",
     "height": 139
    },
    "id": "ln_9OvfgjuuC",
    "outputId": "0730b61b-b3e1-4852-ee36-029678f436e9"
   },
   "outputs": [
    {
     "name": "stdout",
     "output_type": "stream",
     "text": [
      "(2760, 2)\n",
      "          image      sports\n",
      "0  ./test/0.jpg    football\n",
      "1  ./test/1.jpg      motogp\n",
      "2  ./test/2.jpg  ice_hockey\n",
      "3  ./test/3.jpg       chess\n",
      "4  ./test/4.jpg  ice_hockey\n"
     ]
    }
   ],
   "source": [
    "print(df_pred.shape)\n",
    "print(df_pred.head())"
   ]
  },
  {
   "cell_type": "code",
   "execution_count": null,
   "metadata": {
    "id": "I2r-Q0o-HmBt"
   },
   "outputs": [],
   "source": [
    "# print(df_pred.shape)\n",
    "# print(df_pred.head())"
   ]
  },
  {
   "cell_type": "code",
   "execution_count": null,
   "metadata": {
    "id": "fiVro0cWHlvO"
   },
   "outputs": [],
   "source": [
    "df_pred.to_csv('second_sub.csv', index = False)"
   ]
  },
  {
   "cell_type": "code",
   "execution_count": null,
   "metadata": {
    "id": "LbC2N6l6Hll9"
   },
   "outputs": [],
   "source": []
  },
  {
   "cell_type": "code",
   "execution_count": null,
   "metadata": {
    "id": "uirhOlQsxmvU"
   },
   "outputs": [],
   "source": []
  }
 ],
 "metadata": {
  "accelerator": "GPU",
  "colab": {
   "collapsed_sections": [],
   "name": "ResNet50.ipynb",
   "provenance": []
  },
  "kernelspec": {
   "display_name": "Python 3",
   "language": "python",
   "name": "python3"
  },
  "language_info": {
   "codemirror_mode": {
    "name": "ipython",
    "version": 3
   },
   "file_extension": ".py",
   "mimetype": "text/x-python",
   "name": "python",
   "nbconvert_exporter": "python",
   "pygments_lexer": "ipython3",
   "version": "3.7.3"
  }
 },
 "nbformat": 4,
 "nbformat_minor": 1
}
