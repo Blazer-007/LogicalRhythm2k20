{
 "cells": [
  {
   "cell_type": "code",
   "execution_count": null,
   "metadata": {
    "colab": {
     "base_uri": "https://localhost:8080/"
    },
    "id": "GWMObMs69grv",
    "outputId": "2ae84c43-8c3a-41c2-f62e-2d4c41becdbb"
   },
   "outputs": [
    {
     "name": "stdout",
     "output_type": "stream",
     "text": [
      "/content/drive/My Drive/Logical-Rhythm-2k20/Sports_Image_Classification\n"
     ]
    }
   ],
   "source": [
    "cd /content/drive/My Drive/Logical-Rhythm-2k20/Sports_Image_Classification"
   ]
  },
  {
   "cell_type": "code",
   "execution_count": null,
   "metadata": {
    "colab": {
     "base_uri": "https://localhost:8080/",
     "height": 34
    },
    "id": "A-pwLEcBMl0s",
    "outputId": "d745691c-833f-4fd6-e3ef-859f4ae9acb7"
   },
   "outputs": [
    {
     "name": "stdout",
     "output_type": "stream",
     "text": [
      "/content/drive/My Drive/Logical-Rhythm-2k20\n"
     ]
    }
   ],
   "source": [
    "cd /content/drive/My Drive/Logical-Rhythm-2k20/"
   ]
  },
  {
   "cell_type": "code",
   "execution_count": null,
   "metadata": {
    "id": "9Kiku14qCwyq"
   },
   "outputs": [],
   "source": [
    "# ls"
   ]
  },
  {
   "cell_type": "markdown",
   "metadata": {
    "id": "1WDDduIGY3sv"
   },
   "source": [
    "### Current directory Structure for Training , Validation and Testing\n",
    "----\n",
    "- Sports_Image_Classification\n",
    "\n",
    "  - Train\n",
    "\n",
    "    -   Sports_name_1\n",
    "\n",
    "      - Image_123.jpg\n",
    "      - Image_127.jpg\n",
    "      - ...\n",
    "    -   Sports_name_2\n",
    "\n",
    "      - Image_256.jpg\n",
    "      - Image_287.jpg\n",
    "      - ..\n",
    "\n",
    "  - Val\n",
    "\n",
    "    -   Sports_name_1\n",
    "\n",
    "      - Image_256.jpg\n",
    "      - Image_287.jpg\n",
    "      - ..\n",
    "\n",
    "    -   Sports_name_2\n",
    "\n",
    "      - Image_256.jpg\n",
    "      - Image_287.jpg\n",
    "      - ..\n",
    "\n",
    "  - test\n",
    "\n",
    "    -   test\n",
    "\n",
    "      - Image_1.jpg\n",
    "      - Image_2.jpg\n",
    "      - ..\n",
    "\n",
    "\n",
    "\n",
    "\n",
    "\n"
   ]
  },
  {
   "cell_type": "markdown",
   "metadata": {
    "id": "Q9ciMCAMbOk5"
   },
   "source": [
    "## Importing Libraries"
   ]
  },
  {
   "cell_type": "code",
   "execution_count": null,
   "metadata": {
    "colab": {
     "base_uri": "https://localhost:8080/"
    },
    "id": "-ONWuIYTZ1fx",
    "outputId": "21d15d80-6dc4-4ff9-ab0c-254328108242"
   },
   "outputs": [
    {
     "name": "stdout",
     "output_type": "stream",
     "text": [
      "1.0.61\n"
     ]
    }
   ],
   "source": [
    "import fastai\n",
    "print(fastai.__version__ )"
   ]
  },
  {
   "cell_type": "code",
   "execution_count": null,
   "metadata": {
    "id": "zHs71ALhE-6y"
   },
   "outputs": [],
   "source": [
    "import numpy as np\n",
    "from fastai import *\n",
    "from fastai.vision import *\n",
    "from fastai.callbacks import *"
   ]
  },
  {
   "cell_type": "code",
   "execution_count": null,
   "metadata": {
    "id": "29aU-quDCyOd"
   },
   "outputs": [],
   "source": [
    "import warnings\n",
    "warnings.filterwarnings('ignore')"
   ]
  },
  {
   "cell_type": "code",
   "execution_count": null,
   "metadata": {
    "colab": {
     "base_uri": "https://localhost:8080/",
     "height": 35
    },
    "id": "TB6XViC1En_S",
    "outputId": "162c06f5-475f-444d-8ab8-987a0e4dc46d"
   },
   "outputs": [
    {
     "data": {
      "application/vnd.google.colaboratory.intrinsic+json": {
       "type": "string"
      },
      "text/plain": [
       "'/content/drive/My Drive/Logical-Rhythm-2k20/Sports_Image_Classification'"
      ]
     },
     "execution_count": 18,
     "metadata": {
      "tags": []
     },
     "output_type": "execute_result"
    }
   ],
   "source": [
    "pwd"
   ]
  },
  {
   "cell_type": "code",
   "execution_count": null,
   "metadata": {
    "id": "FBq1B4cWDPEL"
   },
   "outputs": [],
   "source": [
    "path = Path('/content/drive/My Drive/Logical-Rhythm-2k20/Sports_Image_Classification')"
   ]
  },
  {
   "cell_type": "code",
   "execution_count": null,
   "metadata": {
    "colab": {
     "base_uri": "https://localhost:8080/"
    },
    "id": "3Otz7N9TDR0y",
    "outputId": "95c34ad1-18b4-4339-a93e-be0a2f7ffd36"
   },
   "outputs": [
    {
     "data": {
      "text/plain": [
       "PosixPath('/content/drive/My Drive/Logical-Rhythm-2k20/Sports_Image_Classification')"
      ]
     },
     "execution_count": 20,
     "metadata": {
      "tags": []
     },
     "output_type": "execute_result"
    }
   ],
   "source": [
    "path"
   ]
  },
  {
   "cell_type": "code",
   "execution_count": null,
   "metadata": {
    "id": "yeei49bYFZib"
   },
   "outputs": [],
   "source": [
    "# path.ls()"
   ]
  },
  {
   "cell_type": "markdown",
   "metadata": {
    "id": "Z7fQUgOFYmHW"
   },
   "source": [
    "## Data Augmentation"
   ]
  },
  {
   "cell_type": "code",
   "execution_count": null,
   "metadata": {
    "id": "gg5cL2xRYllA"
   },
   "outputs": [],
   "source": [
    "# Try and Experiment with values to get better results\n",
    "\n",
    "# do_flip = True --> a random flip is applied with probability 0.5\n",
    "# flip_vert = True --> requires do_flip = True, the image will be flipped vertically or rotated by 90 degrees\n",
    "# max_rotate = 10.0 --> random rotation between -10 to +10 with probability of p_affine\n",
    "# max_zoom = 1.1 --> random zoom applied between 1 and 1.1 with probability of p_affine\n",
    "# max_lighting = 0.2 --> lighting and contrast of magnitude between -0.2 and 0.2 applied with probability of p_lighting\n",
    "# max_wrap = 0.2 --> symmetric warp of magnitude between -0.2 and 0.2 with probability of p_affine\n",
    "# p_affine = 0.75 --> 0.75 probability used to apply max_rotate, max_zoom, max_wrap\n",
    "# p_lighting = 0.75 --> 0.75 probability used to apply max_lighting\n",
    "\n",
    "# trfm = get_transforms(do_flip=True, flip_vert=True, max_rotate=10.0, max_zoom=1.1, max_lighting=0.2, max_warp=0.2, p_affine=0.75, p_lighting=0.75)\n",
    "\n",
    "trfm = get_transforms()"
   ]
  },
  {
   "cell_type": "markdown",
   "metadata": {
    "id": "UHVs-DBpbUi_"
   },
   "source": [
    "## Data Loading"
   ]
  },
  {
   "cell_type": "code",
   "execution_count": null,
   "metadata": {
    "id": "Gg8LU0sNC_nM"
   },
   "outputs": [],
   "source": [
    "np.random.seed(42)\n",
    "data = ImageDataBunch.from_folder(path, train='Train', valid='Val', test = 'test',ds_tfms=trfm, size=224, num_workers=4, bs=32).normalize(imagenet_stats)"
   ]
  },
  {
   "cell_type": "code",
   "execution_count": null,
   "metadata": {
    "colab": {
     "base_uri": "https://localhost:8080/"
    },
    "id": "MackxZl1DfUZ",
    "outputId": "6ce76941-b636-406d-aa9a-990260671d2d"
   },
   "outputs": [
    {
     "data": {
      "text/plain": [
       "22"
      ]
     },
     "execution_count": 30,
     "metadata": {
      "tags": []
     },
     "output_type": "execute_result"
    }
   ],
   "source": [
    "len(data.classes)"
   ]
  },
  {
   "cell_type": "code",
   "execution_count": null,
   "metadata": {
    "id": "CanTZRJKGBRZ"
   },
   "outputs": [],
   "source": [
    "# data.show_batch(rows=3, figsize=(9,10))"
   ]
  },
  {
   "cell_type": "code",
   "execution_count": null,
   "metadata": {
    "colab": {
     "base_uri": "https://localhost:8080/"
    },
    "id": "dCdksdxiGJV-",
    "outputId": "3a3561d7-d1bb-4281-f2ae-c6ec4e533a84"
   },
   "outputs": [
    {
     "data": {
      "text/plain": [
       "(['badminton',\n",
       "  'baseball',\n",
       "  'basketball',\n",
       "  'boxing',\n",
       "  'chess',\n",
       "  'cricket',\n",
       "  'fencing',\n",
       "  'football',\n",
       "  'formula1',\n",
       "  'gymnastics',\n",
       "  'hockey',\n",
       "  'ice_hockey',\n",
       "  'kabaddi',\n",
       "  'motogp',\n",
       "  'shooting',\n",
       "  'swimming',\n",
       "  'table_tennis',\n",
       "  'tennis',\n",
       "  'volleyball',\n",
       "  'weight_lifting',\n",
       "  'wrestling',\n",
       "  'wwe'],\n",
       " 22,\n",
       " 9925,\n",
       " 1115,\n",
       " 2760)"
      ]
     },
     "execution_count": 32,
     "metadata": {
      "tags": []
     },
     "output_type": "execute_result"
    }
   ],
   "source": [
    "data.classes, data.c, len(data.train_ds), len(data.valid_ds), len(data.test_ds)"
   ]
  },
  {
   "cell_type": "markdown",
   "metadata": {
    "id": "l1xmrnzccqai"
   },
   "source": [
    "## Transfer Learning using FastAI\n",
    "### cnn_learner model making starts using Resnet50 weights as pretrained weights"
   ]
  },
  {
   "cell_type": "code",
   "execution_count": null,
   "metadata": {
    "colab": {
     "base_uri": "https://localhost:8080/",
     "height": 84,
     "referenced_widgets": [
      "8ea68204964940ffae767492694ef2c9",
      "9128461a518c48baa564e39abec073b7",
      "4a67a9703af1412f9eabc14b09b5b981",
      "af4f48651f5b430b8cb08b65e4e83b8f",
      "fbaff86927304a8eaab4ac6f3084dadd",
      "6220f19244b043319df2567c7b868114",
      "db02785b36444320b4b3d124bf9c8b6c",
      "fab8faabf8744b9daf625d7df14fba9d"
     ]
    },
    "id": "KUsymgssHDU_",
    "outputId": "677d793e-3592-4387-e0b2-26978325e975"
   },
   "outputs": [
    {
     "name": "stderr",
     "output_type": "stream",
     "text": [
      "Downloading: \"https://download.pytorch.org/models/densenet161-8d451a50.pth\" to /root/.cache/torch/hub/checkpoints/densenet161-8d451a50.pth\n"
     ]
    },
    {
     "data": {
      "application/vnd.jupyter.widget-view+json": {
       "model_id": "8ea68204964940ffae767492694ef2c9",
       "version_major": 2,
       "version_minor": 0
      },
      "text/plain": [
       "HBox(children=(FloatProgress(value=0.0, max=115730790.0), HTML(value='')))"
      ]
     },
     "metadata": {
      "tags": []
     },
     "output_type": "display_data"
    },
    {
     "name": "stdout",
     "output_type": "stream",
     "text": [
      "\n"
     ]
    }
   ],
   "source": [
    "learn = cnn_learner(data, models.densenet161, metrics=[error_rate, accuracy])"
   ]
  },
  {
   "cell_type": "markdown",
   "metadata": {
    "id": "5jOTjhtiteN5"
   },
   "source": [
    "## Best way to Train Model using FastAI modules\n",
    "\n",
    "1.   First find best learning_rate using lr_find() \n",
    "\n",
    "  - Plot the losses against the learning rates (recorder.plot()) and pick a value a bit before the minimum, where the loss still improves.\n",
    "\n",
    "2.   Train the model using fit_one_cycle(no_of_epochs, range_of_learning_rate)\n",
    "\n",
    "  - for training freezed model (i.e. transfer learning) use a fixed learning_rate found using Step 1.\n",
    "\n",
    "3.   Now comes Fine-Tuning part \n",
    "\n",
    "  - Load the model trained above \n",
    "  - Unfreeze its layers \n",
    "  - find range of learning_rate \n",
    "  \n",
    "    - - The maximum should be the value picked with the Learning Rate Finder\n",
    "    - - The lower one can be ten/five times lower.\n",
    "  - The idea for using above ranged learning rate is :-\n",
    "    - - using a lower value to warm-up the training \n",
    "    - - during the middle of the cycle, the high learning rates will act as regularization method, and keep the network from overfitting.\n",
    "\n",
    "4.   #### For more details see [Sylvain Gugger Blog](https://sgugger.github.io/the-1cycle-policy.html)"
   ]
  },
  {
   "cell_type": "markdown",
   "metadata": {
    "id": "l73rLkfOdIkh"
   },
   "source": [
    "### Finding Learning_rate using lr_find()"
   ]
  },
  {
   "cell_type": "code",
   "execution_count": null,
   "metadata": {
    "colab": {
     "base_uri": "https://localhost:8080/",
     "height": 111
    },
    "id": "17GBCznyGmnE",
    "outputId": "d9ab015b-9621-4084-e92d-fe8f7b088f41"
   },
   "outputs": [
    {
     "data": {
      "text/html": [
       "\n",
       "    <div>\n",
       "        <style>\n",
       "            /* Turns off some styling */\n",
       "            progress {\n",
       "                /* gets rid of default border in Firefox and Opera. */\n",
       "                border: none;\n",
       "                /* Needs to be in here for Safari polyfill so background images work as expected. */\n",
       "                background-size: auto;\n",
       "            }\n",
       "            .progress-bar-interrupted, .progress-bar-interrupted::-webkit-progress-bar {\n",
       "                background: #F44336;\n",
       "            }\n",
       "        </style>\n",
       "      <progress value='0' class='' max='1' style='width:300px; height:20px; vertical-align: middle;'></progress>\n",
       "      0.00% [0/1 00:00<00:00]\n",
       "    </div>\n",
       "    \n",
       "<table border=\"1\" class=\"dataframe\">\n",
       "  <thead>\n",
       "    <tr style=\"text-align: left;\">\n",
       "      <th>epoch</th>\n",
       "      <th>train_loss</th>\n",
       "      <th>valid_loss</th>\n",
       "      <th>error_rate</th>\n",
       "      <th>accuracy</th>\n",
       "      <th>time</th>\n",
       "    </tr>\n",
       "  </thead>\n",
       "  <tbody>\n",
       "  </tbody>\n",
       "</table><p>\n",
       "\n",
       "    <div>\n",
       "        <style>\n",
       "            /* Turns off some styling */\n",
       "            progress {\n",
       "                /* gets rid of default border in Firefox and Opera. */\n",
       "                border: none;\n",
       "                /* Needs to be in here for Safari polyfill so background images work as expected. */\n",
       "                background-size: auto;\n",
       "            }\n",
       "            .progress-bar-interrupted, .progress-bar-interrupted::-webkit-progress-bar {\n",
       "                background: #F44336;\n",
       "            }\n",
       "        </style>\n",
       "      <progress value='89' class='' max='310' style='width:300px; height:20px; vertical-align: middle;'></progress>\n",
       "      28.71% [89/310 00:55<02:17 10.4152]\n",
       "    </div>\n",
       "    "
      ],
      "text/plain": [
       "<IPython.core.display.HTML object>"
      ]
     },
     "metadata": {
      "tags": []
     },
     "output_type": "display_data"
    },
    {
     "name": "stdout",
     "output_type": "stream",
     "text": [
      "LR Finder is complete, type {learner_name}.recorder.plot() to see the graph.\n"
     ]
    }
   ],
   "source": [
    "learn.lr_find()"
   ]
  },
  {
   "cell_type": "code",
   "execution_count": null,
   "metadata": {
    "colab": {
     "base_uri": "https://localhost:8080/",
     "height": 279
    },
    "id": "WUOQjU23GvUj",
    "outputId": "8e5d195c-0eac-45d0-aff1-0ce0a5724e98"
   },
   "outputs": [
    {
     "data": {
      "image/png": "[encoded data removed]",
      "text/plain": [
       "<Figure size 432x288 with 1 Axes>"
      ]
     },
     "metadata": {
      "needs_background": "light",
      "tags": []
     },
     "output_type": "display_data"
    }
   ],
   "source": [
    "learn.recorder.plot()"
   ]
  },
  {
   "cell_type": "code",
   "execution_count": null,
   "metadata": {
    "id": "SdexanJ8Jm0j"
   },
   "outputs": [],
   "source": [
    "# lr = 3e-02 or lr = 1e-01 gives worst result accuracy does not increase after 1st epoch and valid_loss never decreases\n",
    "# trying lr = 1e-02\n",
    "lr = 1e-02"
   ]
  },
  {
   "cell_type": "code",
   "execution_count": null,
   "metadata": {
    "colab": {
     "base_uri": "https://localhost:8080/"
    },
    "id": "rUxUa6TyJw30",
    "outputId": "66649b09-b944-491f-c73e-d7f76d87fb0d"
   },
   "outputs": [
    {
     "data": {
      "text/plain": [
       "0.01"
      ]
     },
     "execution_count": 68,
     "metadata": {
      "tags": []
     },
     "output_type": "execute_result"
    }
   ],
   "source": [
    "lr"
   ]
  },
  {
   "cell_type": "markdown",
   "metadata": {
    "id": "EdR-bQmffMYX"
   },
   "source": [
    "### Training Model \n",
    "- here the training is done when all the layers of model is freezed"
   ]
  },
  {
   "cell_type": "code",
   "execution_count": null,
   "metadata": {
    "id": "v659cPl6Jx4a"
   },
   "outputs": [],
   "source": [
    "learn.callback_fns.append(partial(SaveModelCallback, name='res50-stage-1'))"
   ]
  },
  {
   "cell_type": "code",
   "execution_count": null,
   "metadata": {
    "id": "L1doPmbLIB7l"
   },
   "outputs": [],
   "source": [
    "learn.callback_fns.append(partial(SaveModelCallback, name='densenet-stage-1'))"
   ]
  },
  {
   "cell_type": "code",
   "execution_count": null,
   "metadata": {
    "colab": {
     "base_uri": "https://localhost:8080/",
     "height": 634
    },
    "id": "29hJy0NVJ1WX",
    "outputId": "1cfcbd18-4660-4287-ed51-5e208ce22478"
   },
   "outputs": [
    {
     "data": {
      "text/html": [
       "<table border=\"1\" class=\"dataframe\">\n",
       "  <thead>\n",
       "    <tr style=\"text-align: left;\">\n",
       "      <th>epoch</th>\n",
       "      <th>train_loss</th>\n",
       "      <th>valid_loss</th>\n",
       "      <th>error_rate</th>\n",
       "      <th>accuracy</th>\n",
       "      <th>time</th>\n",
       "    </tr>\n",
       "  </thead>\n",
       "  <tbody>\n",
       "    <tr>\n",
       "      <td>0</td>\n",
       "      <td>0.744865</td>\n",
       "      <td>0.418013</td>\n",
       "      <td>0.116592</td>\n",
       "      <td>0.883408</td>\n",
       "      <td>03:07</td>\n",
       "    </tr>\n",
       "    <tr>\n",
       "      <td>1</td>\n",
       "      <td>0.665688</td>\n",
       "      <td>0.470025</td>\n",
       "      <td>0.123767</td>\n",
       "      <td>0.876233</td>\n",
       "      <td>03:04</td>\n",
       "    </tr>\n",
       "    <tr>\n",
       "      <td>2</td>\n",
       "      <td>0.742895</td>\n",
       "      <td>0.502627</td>\n",
       "      <td>0.118386</td>\n",
       "      <td>0.881614</td>\n",
       "      <td>03:03</td>\n",
       "    </tr>\n",
       "    <tr>\n",
       "      <td>3</td>\n",
       "      <td>0.620437</td>\n",
       "      <td>0.416624</td>\n",
       "      <td>0.109417</td>\n",
       "      <td>0.890583</td>\n",
       "      <td>03:04</td>\n",
       "    </tr>\n",
       "    <tr>\n",
       "      <td>4</td>\n",
       "      <td>0.508562</td>\n",
       "      <td>0.374658</td>\n",
       "      <td>0.091480</td>\n",
       "      <td>0.908520</td>\n",
       "      <td>03:04</td>\n",
       "    </tr>\n",
       "    <tr>\n",
       "      <td>5</td>\n",
       "      <td>0.437459</td>\n",
       "      <td>0.398827</td>\n",
       "      <td>0.104036</td>\n",
       "      <td>0.895964</td>\n",
       "      <td>03:04</td>\n",
       "    </tr>\n",
       "    <tr>\n",
       "      <td>6</td>\n",
       "      <td>0.394163</td>\n",
       "      <td>0.369523</td>\n",
       "      <td>0.100448</td>\n",
       "      <td>0.899552</td>\n",
       "      <td>03:03</td>\n",
       "    </tr>\n",
       "    <tr>\n",
       "      <td>7</td>\n",
       "      <td>0.310313</td>\n",
       "      <td>0.313079</td>\n",
       "      <td>0.077130</td>\n",
       "      <td>0.922870</td>\n",
       "      <td>03:03</td>\n",
       "    </tr>\n",
       "    <tr>\n",
       "      <td>8</td>\n",
       "      <td>0.305755</td>\n",
       "      <td>0.320036</td>\n",
       "      <td>0.081614</td>\n",
       "      <td>0.918386</td>\n",
       "      <td>03:03</td>\n",
       "    </tr>\n",
       "    <tr>\n",
       "      <td>9</td>\n",
       "      <td>0.233270</td>\n",
       "      <td>0.292636</td>\n",
       "      <td>0.069058</td>\n",
       "      <td>0.930942</td>\n",
       "      <td>03:03</td>\n",
       "    </tr>\n",
       "    <tr>\n",
       "      <td>10</td>\n",
       "      <td>0.151786</td>\n",
       "      <td>0.305987</td>\n",
       "      <td>0.072646</td>\n",
       "      <td>0.927354</td>\n",
       "      <td>03:03</td>\n",
       "    </tr>\n",
       "    <tr>\n",
       "      <td>11</td>\n",
       "      <td>0.118995</td>\n",
       "      <td>0.291416</td>\n",
       "      <td>0.065471</td>\n",
       "      <td>0.934529</td>\n",
       "      <td>03:03</td>\n",
       "    </tr>\n",
       "    <tr>\n",
       "      <td>12</td>\n",
       "      <td>0.105475</td>\n",
       "      <td>0.279079</td>\n",
       "      <td>0.060987</td>\n",
       "      <td>0.939013</td>\n",
       "      <td>03:03</td>\n",
       "    </tr>\n",
       "    <tr>\n",
       "      <td>13</td>\n",
       "      <td>0.077423</td>\n",
       "      <td>0.279375</td>\n",
       "      <td>0.060987</td>\n",
       "      <td>0.939013</td>\n",
       "      <td>03:02</td>\n",
       "    </tr>\n",
       "    <tr>\n",
       "      <td>14</td>\n",
       "      <td>0.083723</td>\n",
       "      <td>0.279573</td>\n",
       "      <td>0.061883</td>\n",
       "      <td>0.938117</td>\n",
       "      <td>03:03</td>\n",
       "    </tr>\n",
       "  </tbody>\n",
       "</table>"
      ],
      "text/plain": [
       "<IPython.core.display.HTML object>"
      ]
     },
     "metadata": {
      "tags": []
     },
     "output_type": "display_data"
    },
    {
     "name": "stdout",
     "output_type": "stream",
     "text": [
      "Better model found at epoch 0 with valid_loss value: 0.41801294684410095.\n",
      "Better model found at epoch 3 with valid_loss value: 0.4166238009929657.\n",
      "Better model found at epoch 4 with valid_loss value: 0.37465807795524597.\n",
      "Better model found at epoch 6 with valid_loss value: 0.3695228397846222.\n",
      "Better model found at epoch 7 with valid_loss value: 0.31307947635650635.\n",
      "Better model found at epoch 9 with valid_loss value: 0.29263588786125183.\n",
      "Better model found at epoch 11 with valid_loss value: 0.29141607880592346.\n",
      "Better model found at epoch 12 with valid_loss value: 0.2790788412094116.\n"
     ]
    }
   ],
   "source": [
    "learn.fit_one_cycle(15, slice(lr))"
   ]
  },
  {
   "cell_type": "code",
   "execution_count": null,
   "metadata": {
    "id": "C3roeW4OrD7C"
   },
   "outputs": [],
   "source": [
    "learn.load('densenet-stage-1'); # remove ';' to see model"
   ]
  },
  {
   "cell_type": "markdown",
   "metadata": {
    "id": "tJ5O9vQ0sO4y"
   },
   "source": [
    "# Creating Output Submission CSV file"
   ]
  },
  {
   "cell_type": "code",
   "execution_count": null,
   "metadata": {
    "id": "w_7jKEo9D-2c"
   },
   "outputs": [],
   "source": [
    "from pathlib import Path\n",
    "p = Path(\"/content/drive/My Drive/Logical-Rhythm-2k20/Sports_Image_Classification/test/test\")"
   ]
  },
  {
   "cell_type": "code",
   "execution_count": null,
   "metadata": {
    "colab": {
     "base_uri": "https://localhost:8080/"
    },
    "id": "qC7Dg5XJEEro",
    "outputId": "d24bdbaf-5ec9-4d22-eb15-76e100faa189"
   },
   "outputs": [
    {
     "name": "stdout",
     "output_type": "stream",
     "text": [
      "2760\n"
     ]
    }
   ],
   "source": [
    "dire = p.glob(\"*.jpg\")\n",
    "img_pred = {}\n",
    "for img_path in dire:\n",
    "  img = open_image(img_path)\n",
    "  pred_class,pred_idx,outputs = learn.predict(img)\n",
    "  img_label = str(img_path).split('/')[-1]\n",
    "  img_pred[img_label] = pred_class\n",
    "print(len(img_pred))"
   ]
  },
  {
   "cell_type": "code",
   "execution_count": null,
   "metadata": {
    "id": "XaJmsJMvEfjH"
   },
   "outputs": [],
   "source": [
    "imggg = open_image('/content/drive/My Drive/Logical-Rhythm-2k20/Sports_Image_Classification/test/test/0.jpg')"
   ]
  },
  {
   "cell_type": "code",
   "execution_count": null,
   "metadata": {
    "colab": {
     "base_uri": "https://localhost:8080/"
    },
    "id": "tgTOzEuHFWdY",
    "outputId": "8913dc50-30f9-4361-d62f-e815f2a17c0b"
   },
   "outputs": [
    {
     "name": "stdout",
     "output_type": "stream",
     "text": [
      "football tensor(7) tensor([2.7266e-08, 6.3503e-10, 1.1469e-10, 5.0988e-12, 1.7066e-10, 1.6488e-09,\n",
      "        1.8798e-11, 1.0000e+00, 1.4012e-10, 1.1222e-10, 1.0662e-07, 5.2750e-12,\n",
      "        7.5000e-11, 1.2587e-10, 1.1142e-10, 2.0793e-12, 1.4296e-09, 9.5520e-10,\n",
      "        5.0928e-11, 8.7374e-11, 3.4992e-11, 4.1562e-11]) /content/drive/My Drive/Logical-Rhythm-2k20/Sports_Image_Classification/test/test/1305.jpg\n"
     ]
    }
   ],
   "source": [
    "pred_class,pred_idx,outputs = learn.predict(imggg)\n",
    "print(pred_class, pred_idx, outputs, img_path)"
   ]
  },
  {
   "cell_type": "code",
   "execution_count": null,
   "metadata": {
    "id": "Fk8KZokQFZD6"
   },
   "outputs": [],
   "source": [
    "test_images_list = pd.read_csv('/content/drive/My Drive/Logical-Rhythm-2k20/Sports_Image_Classification/test_images_list.csv')"
   ]
  },
  {
   "cell_type": "code",
   "execution_count": null,
   "metadata": {
    "colab": {
     "base_uri": "https://localhost:8080/",
     "height": 196
    },
    "id": "cGLYOY9wJyim",
    "outputId": "cf433a2b-8522-4d2e-e2be-2ae5a6c729bd"
   },
   "outputs": [
    {
     "data": {
      "text/html": [
       "<div>\n",
       "<style scoped>\n",
       "    .dataframe tbody tr th:only-of-type {\n",
       "        vertical-align: middle;\n",
       "    }\n",
       "\n",
       "    .dataframe tbody tr th {\n",
       "        vertical-align: top;\n",
       "    }\n",
       "\n",
       "    .dataframe thead th {\n",
       "        text-align: right;\n",
       "    }\n",
       "</style>\n",
       "<table border=\"1\" class=\"dataframe\">\n",
       "  <thead>\n",
       "    <tr style=\"text-align: right;\">\n",
       "      <th></th>\n",
       "      <th>image</th>\n",
       "    </tr>\n",
       "  </thead>\n",
       "  <tbody>\n",
       "    <tr>\n",
       "      <th>0</th>\n",
       "      <td>./test/0.jpg</td>\n",
       "    </tr>\n",
       "    <tr>\n",
       "      <th>1</th>\n",
       "      <td>./test/1.jpg</td>\n",
       "    </tr>\n",
       "    <tr>\n",
       "      <th>2</th>\n",
       "      <td>./test/2.jpg</td>\n",
       "    </tr>\n",
       "    <tr>\n",
       "      <th>3</th>\n",
       "      <td>./test/3.jpg</td>\n",
       "    </tr>\n",
       "    <tr>\n",
       "      <th>4</th>\n",
       "      <td>./test/4.jpg</td>\n",
       "    </tr>\n",
       "  </tbody>\n",
       "</table>\n",
       "</div>"
      ],
      "text/plain": [
       "          image\n",
       "0  ./test/0.jpg\n",
       "1  ./test/1.jpg\n",
       "2  ./test/2.jpg\n",
       "3  ./test/3.jpg\n",
       "4  ./test/4.jpg"
      ]
     },
     "execution_count": 76,
     "metadata": {
      "tags": []
     },
     "output_type": "execute_result"
    }
   ],
   "source": [
    "test_images_list.head()"
   ]
  },
  {
   "cell_type": "code",
   "execution_count": null,
   "metadata": {
    "id": "VgwbyczdJypM"
   },
   "outputs": [],
   "source": [
    "df_pred = pd.DataFrame(columns=['image', 'sports'])"
   ]
  },
  {
   "cell_type": "code",
   "execution_count": null,
   "metadata": {
    "id": "fn52ZjjVJy1k"
   },
   "outputs": [],
   "source": [
    "for idx in test_images_list.index:\n",
    "  img_name = test_images_list['image'][idx]\n",
    "  img_no = test_images_list['image'][idx].split('/')[-1]\n",
    "  label = img_pred[img_no]\n",
    "  df_pred = df_pred.append({'image' : img_name, 'sports' : label}, ignore_index=True)"
   ]
  },
  {
   "cell_type": "code",
   "execution_count": null,
   "metadata": {
    "colab": {
     "base_uri": "https://localhost:8080/"
    },
    "id": "ziSRrrsjJymA",
    "outputId": "94ebe817-c096-426a-c93e-9687b58fbd39"
   },
   "outputs": [
    {
     "name": "stdout",
     "output_type": "stream",
     "text": [
      "(2760, 2)\n",
      "          image      sports\n",
      "0  ./test/0.jpg    football\n",
      "1  ./test/1.jpg      motogp\n",
      "2  ./test/2.jpg  ice_hockey\n",
      "3  ./test/3.jpg   badminton\n",
      "4  ./test/4.jpg     fencing\n"
     ]
    }
   ],
   "source": [
    "print(df_pred.shape)\n",
    "print(df_pred.head())"
   ]
  },
  {
   "cell_type": "code",
   "execution_count": null,
   "metadata": {
    "id": "IFjZmOCMJye9"
   },
   "outputs": [],
   "source": [
    "df_pred.to_csv('my_sub_fastai_dense_1.csv', index = False)"
   ]
  },
  {
   "cell_type": "code",
   "execution_count": null,
   "metadata": {
    "id": "vKHRLhV8N35N"
   },
   "outputs": [],
   "source": []
  }
 ],
 "metadata": {
  "accelerator": "GPU",
  "colab": {
   "name": "FastAI.ipynb",
   "provenance": []
  },
  "kernelspec": {
   "display_name": "Python 3",
   "language": "python",
   "name": "python3"
  },
  "language_info": {
   "codemirror_mode": {
    "name": "ipython",
    "version": 3
   },
   "file_extension": ".py",
   "mimetype": "text/x-python",
   "name": "python",
   "nbconvert_exporter": "python",
   "pygments_lexer": "ipython3",
   "version": "3.7.3"
  },
  "widgets": {
   "application/vnd.jupyter.widget-state+json": {
    "4a67a9703af1412f9eabc14b09b5b981": {
     "model_module": "@jupyter-widgets/controls",
     "model_name": "FloatProgressModel",
     "state": {
      "_dom_classes": [],
      "_model_module": "@jupyter-widgets/controls",
      "_model_module_version": "1.5.0",
      "_model_name": "FloatProgressModel",
      "_view_count": null,
      "_view_module": "@jupyter-widgets/controls",
      "_view_module_version": "1.5.0",
      "_view_name": "ProgressView",
      "bar_style": "success",
      "description": "100%",
      "description_tooltip": null,
      "layout": "IPY_MODEL_6220f19244b043319df2567c7b868114",
      "max": 115730790,
      "min": 0,
      "orientation": "horizontal",
      "style": "IPY_MODEL_fbaff86927304a8eaab4ac6f3084dadd",
      "value": 115730790
     }
    },
    "6220f19244b043319df2567c7b868114": {
     "model_module": "@jupyter-widgets/base",
     "model_name": "LayoutModel",
     "state": {
      "_model_module": "@jupyter-widgets/base",
      "_model_module_version": "1.2.0",
      "_model_name": "LayoutModel",
      "_view_count": null,
      "_view_module": "@jupyter-widgets/base",
      "_view_module_version": "1.2.0",
      "_view_name": "LayoutView",
      "align_content": null,
      "align_items": null,
      "align_self": null,
      "border": null,
      "bottom": null,
      "display": null,
      "flex": null,
      "flex_flow": null,
      "grid_area": null,
      "grid_auto_columns": null,
      "grid_auto_flow": null,
      "grid_auto_rows": null,
      "grid_column": null,
      "grid_gap": null,
      "grid_row": null,
      "grid_template_areas": null,
      "grid_template_columns": null,
      "grid_template_rows": null,
      "height": null,
      "justify_content": null,
      "justify_items": null,
      "left": null,
      "margin": null,
      "max_height": null,
      "max_width": null,
      "min_height": null,
      "min_width": null,
      "object_fit": null,
      "object_position": null,
      "order": null,
      "overflow": null,
      "overflow_x": null,
      "overflow_y": null,
      "padding": null,
      "right": null,
      "top": null,
      "visibility": null,
      "width": null
     }
    },
    "8ea68204964940ffae767492694ef2c9": {
     "model_module": "@jupyter-widgets/controls",
     "model_name": "HBoxModel",
     "state": {
      "_dom_classes": [],
      "_model_module": "@jupyter-widgets/controls",
      "_model_module_version": "1.5.0",
      "_model_name": "HBoxModel",
      "_view_count": null,
      "_view_module": "@jupyter-widgets/controls",
      "_view_module_version": "1.5.0",
      "_view_name": "HBoxView",
      "box_style": "",
      "children": [
       "IPY_MODEL_4a67a9703af1412f9eabc14b09b5b981",
       "IPY_MODEL_af4f48651f5b430b8cb08b65e4e83b8f"
      ],
      "layout": "IPY_MODEL_9128461a518c48baa564e39abec073b7"
     }
    },
    "9128461a518c48baa564e39abec073b7": {
     "model_module": "@jupyter-widgets/base",
     "model_name": "LayoutModel",
     "state": {
      "_model_module": "@jupyter-widgets/base",
      "_model_module_version": "1.2.0",
      "_model_name": "LayoutModel",
      "_view_count": null,
      "_view_module": "@jupyter-widgets/base",
      "_view_module_version": "1.2.0",
      "_view_name": "LayoutView",
      "align_content": null,
      "align_items": null,
      "align_self": null,
      "border": null,
      "bottom": null,
      "display": null,
      "flex": null,
      "flex_flow": null,
      "grid_area": null,
      "grid_auto_columns": null,
      "grid_auto_flow": null,
      "grid_auto_rows": null,
      "grid_column": null,
      "grid_gap": null,
      "grid_row": null,
      "grid_template_areas": null,
      "grid_template_columns": null,
      "grid_template_rows": null,
      "height": null,
      "justify_content": null,
      "justify_items": null,
      "left": null,
      "margin": null,
      "max_height": null,
      "max_width": null,
      "min_height": null,
      "min_width": null,
      "object_fit": null,
      "object_position": null,
      "order": null,
      "overflow": null,
      "overflow_x": null,
      "overflow_y": null,
      "padding": null,
      "right": null,
      "top": null,
      "visibility": null,
      "width": null
     }
    },
    "af4f48651f5b430b8cb08b65e4e83b8f": {
     "model_module": "@jupyter-widgets/controls",
     "model_name": "HTMLModel",
     "state": {
      "_dom_classes": [],
      "_model_module": "@jupyter-widgets/controls",
      "_model_module_version": "1.5.0",
      "_model_name": "HTMLModel",
      "_view_count": null,
      "_view_module": "@jupyter-widgets/controls",
      "_view_module_version": "1.5.0",
      "_view_name": "HTMLView",
      "description": "",
      "description_tooltip": null,
      "layout": "IPY_MODEL_fab8faabf8744b9daf625d7df14fba9d",
      "placeholder": "​",
      "style": "IPY_MODEL_db02785b36444320b4b3d124bf9c8b6c",
      "value": " 110M/110M [00:03&lt;00:00, 34.2MB/s]"
     }
    },
    "db02785b36444320b4b3d124bf9c8b6c": {
     "model_module": "@jupyter-widgets/controls",
     "model_name": "DescriptionStyleModel",
     "state": {
      "_model_module": "@jupyter-widgets/controls",
      "_model_module_version": "1.5.0",
      "_model_name": "DescriptionStyleModel",
      "_view_count": null,
      "_view_module": "@jupyter-widgets/base",
      "_view_module_version": "1.2.0",
      "_view_name": "StyleView",
      "description_width": ""
     }
    },
    "fab8faabf8744b9daf625d7df14fba9d": {
     "model_module": "@jupyter-widgets/base",
     "model_name": "LayoutModel",
     "state": {
      "_model_module": "@jupyter-widgets/base",
      "_model_module_version": "1.2.0",
      "_model_name": "LayoutModel",
      "_view_count": null,
      "_view_module": "@jupyter-widgets/base",
      "_view_module_version": "1.2.0",
      "_view_name": "LayoutView",
      "align_content": null,
      "align_items": null,
      "align_self": null,
      "border": null,
      "bottom": null,
      "display": null,
      "flex": null,
      "flex_flow": null,
      "grid_area": null,
      "grid_auto_columns": null,
      "grid_auto_flow": null,
      "grid_auto_rows": null,
      "grid_column": null,
      "grid_gap": null,
      "grid_row": null,
      "grid_template_areas": null,
      "grid_template_columns": null,
      "grid_template_rows": null,
      "height": null,
      "justify_content": null,
      "justify_items": null,
      "left": null,
      "margin": null,
      "max_height": null,
      "max_width": null,
      "min_height": null,
      "min_width": null,
      "object_fit": null,
      "object_position": null,
      "order": null,
      "overflow": null,
      "overflow_x": null,
      "overflow_y": null,
      "padding": null,
      "right": null,
      "top": null,
      "visibility": null,
      "width": null
     }
    },
    "fbaff86927304a8eaab4ac6f3084dadd": {
     "model_module": "@jupyter-widgets/controls",
     "model_name": "ProgressStyleModel",
     "state": {
      "_model_module": "@jupyter-widgets/controls",
      "_model_module_version": "1.5.0",
      "_model_name": "ProgressStyleModel",
      "_view_count": null,
      "_view_module": "@jupyter-widgets/base",
      "_view_module_version": "1.2.0",
      "_view_name": "StyleView",
      "bar_color": null,
      "description_width": "initial"
     }
    }
   }
  }
 },
 "nbformat": 4,
 "nbformat_minor": 1
}
